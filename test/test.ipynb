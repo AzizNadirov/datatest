{
 "cells": [
  {
   "cell_type": "code",
   "execution_count": 1,
   "id": "initial_id",
   "metadata": {
    "ExecuteTime": {
     "end_time": "2024-04-10T09:58:35.163404Z",
     "start_time": "2024-04-10T09:58:34.895949Z"
    },
    "collapsed": true
   },
   "outputs": [],
   "source": [
    "import sys\n",
    "sys.path.insert(0, \"/home/anadirov/Documents/Projects/datatest/\")\n",
    "\n",
    "import pandas as pd\n",
    "\n",
    "from core.assertions.df import DFHasColumnsAssertion, PanderaSchemaAssertion\n",
    "from core.validators import validate_url\n",
    "from core.testpipe import TestPipe"
   ]
  },
  {
   "cell_type": "code",
   "execution_count": null,
   "id": "bfe75ee5bad92e28",
   "metadata": {
    "ExecuteTime": {
     "end_time": "2024-04-10T09:58:35.167048Z",
     "start_time": "2024-04-10T09:58:35.164861Z"
    }
   },
   "outputs": [],
   "source": []
  },
  {
   "cell_type": "code",
   "execution_count": 2,
   "id": "3f8bce4d339f0cfa",
   "metadata": {
    "ExecuteTime": {
     "end_time": "2024-04-10T09:58:35.172156Z",
     "start_time": "2024-04-10T09:58:35.168440Z"
    }
   },
   "outputs": [],
   "source": [
    "df = pd.read_csv(\"test_files/sites.csv\")"
   ]
  },
  {
   "cell_type": "markdown",
   "id": "90800dd9247fd961",
   "metadata": {},
   "source": [
    "## Run some manually tests"
   ]
  },
  {
   "cell_type": "code",
   "execution_count": 3,
   "id": "2f41f911f0c234c2",
   "metadata": {
    "ExecuteTime": {
     "end_time": "2024-04-10T09:58:35.175817Z",
     "start_time": "2024-04-10T09:58:35.173156Z"
    }
   },
   "outputs": [],
   "source": [
    "t1 = DFHasColumnsAssertion(df, ['site_name', 'site_url'])\n",
    "assert t1.run(), \"Assertion failed\"\n",
    "assert t1.status == 'passed', \"Has no success status\""
   ]
  },
  {
   "cell_type": "code",
   "execution_count": 4,
   "id": "e46e61521fcff009",
   "metadata": {
    "ExecuteTime": {
     "end_time": "2024-04-10T09:58:35.181137Z",
     "start_time": "2024-04-10T09:58:35.177249Z"
    }
   },
   "outputs": [],
   "source": [
    "t2 = DFHasColumnsAssertion(df, ['site_name', 'site_url', \"domain\"], strict=False)\n",
    "assert t2.run() is False, \"Assertion success but should fail\"\n",
    "assert t2.status == 'failed', \"Has no failure status\"\n",
    "\n",
    "df.loc[:,\"domain\"] = None\n",
    "t3 = DFHasColumnsAssertion(df, ['site_name', 'site_url'], strict=True)\n",
    "assert t3.run() is False, f\"Should have failed but True\"\n",
    "assert t3.status == \"failed\", \"Has no failure status\"\n",
    "assert t3.error_message == \"Columns: '['domain']' are in df, but not in your list: ['site_name', 'site_url']\""
   ]
  },
  {
   "cell_type": "markdown",
   "id": "8ab43f08535df131",
   "metadata": {},
   "source": [
    "## Explore pandera"
   ]
  },
  {
   "cell_type": "code",
   "execution_count": 5,
   "id": "a1ed4785e9be6745",
   "metadata": {
    "ExecuteTime": {
     "end_time": "2024-04-10T11:11:34.161174Z",
     "start_time": "2024-04-10T11:11:34.148477Z"
    }
   },
   "outputs": [],
   "source": [
    "import pandera as pa"
   ]
  },
  {
   "cell_type": "code",
   "execution_count": 6,
   "id": "cd0430d8b5381a8b",
   "metadata": {
    "ExecuteTime": {
     "end_time": "2024-04-10T11:03:10.178411Z",
     "start_time": "2024-04-10T11:03:10.166025Z"
    }
   },
   "outputs": [],
   "source": [
    "df_schema = pa.DataFrameSchema({\n",
    "                                \"site_name\": pa.Column(str, checks=pa.Check(lambda site_name: site_name.str.isalpha())),\n",
    "                                \"site_url\": pa.Column(str, checks=pa.Check(validate_url))})\n",
    "\n",
    "pa1 = PanderaSchemaAssertion(df_schema, df)"
   ]
  },
  {
   "cell_type": "code",
   "execution_count": 8,
   "id": "b088e3659317b098",
   "metadata": {
    "ExecuteTime": {
     "end_time": "2024-04-10T11:14:23.553906Z",
     "start_time": "2024-04-10T11:14:23.549714Z"
    }
   },
   "outputs": [],
   "source": [
    "assertions = [t1, t2, t3, pa1]\n",
    "pipe = TestPipe(\"test_pipe\", assertions=assertions)"
   ]
  },
  {
   "cell_type": "code",
   "execution_count": 11,
   "id": "d46cfd05fdf642a5",
   "metadata": {
    "ExecuteTime": {
     "end_time": "2024-04-10T11:14:23.847952Z",
     "start_time": "2024-04-10T11:14:23.713502Z"
    }
   },
   "outputs": [
    {
     "name": "stdout",
     "output_type": "stream",
     "text": [
      "[test_pipe]: Running assertions\n",
      "\t1|DFHasColumns|: [passed]\n",
      "\t2|DFHasColumns|: [passed]\n",
      "\t3|DFHasColumns|: [failed] -> Columns: '['domain']' are in df, but not in your list: ['site_name', 'site_url']\n",
      "\t4|PanderaDataFrameSchema|: [passed]\n",
      "Successfully ran [3/4] assertions\n",
      "Done\n"
     ]
    },
    {
     "name": "stderr",
     "output_type": "stream",
     "text": [
      "/home/anadirov/Documents/Projects/datatest/core/validators.py:13: UserWarning: This pattern is interpreted as a regular expression, and has match groups. To actually get the groups, use str.extract.\n",
      "  is_url = urls.str.contains(regex, regex=True, case=False)\n"
     ]
    }
   ],
   "source": [
    "pipe.run()"
   ]
  },
  {
   "cell_type": "code",
   "execution_count": null,
   "id": "6ab15fc202b35914",
   "metadata": {},
   "outputs": [],
   "source": [
    "\n"
   ]
  },
  {
   "cell_type": "code",
   "execution_count": null,
   "id": "7e5b3fa7",
   "metadata": {},
   "outputs": [],
   "source": []
  },
  {
   "cell_type": "code",
   "execution_count": null,
   "id": "b35e91b2",
   "metadata": {},
   "outputs": [],
   "source": []
  },
  {
   "cell_type": "code",
   "execution_count": null,
   "id": "04fb3e34",
   "metadata": {},
   "outputs": [],
   "source": []
  }
 ],
 "metadata": {
  "kernelspec": {
   "display_name": "Python 3",
   "language": "python",
   "name": "python3"
  },
  "language_info": {
   "codemirror_mode": {
    "name": "ipython",
    "version": 3
   },
   "file_extension": ".py",
   "mimetype": "text/x-python",
   "name": "python",
   "nbconvert_exporter": "python",
   "pygments_lexer": "ipython3",
   "version": "3.11.8"
  }
 },
 "nbformat": 4,
 "nbformat_minor": 5
}
